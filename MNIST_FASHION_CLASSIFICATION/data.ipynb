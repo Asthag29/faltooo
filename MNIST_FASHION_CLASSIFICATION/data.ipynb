{
 "cells": [
  {
   "cell_type": "code",
   "execution_count": 1,
   "id": "75ebeb5a",
   "metadata": {},
   "outputs": [],
   "source": [
    "\n",
    "import torch\n",
    "import os\n",
    "from torch.utils.data import DataLoader, TensorDataset\n",
    "\n"
   ]
  },
  {
   "cell_type": "code",
   "execution_count": 2,
   "id": "77c5b57b",
   "metadata": {},
   "outputs": [],
   "source": [
    "def corrupt_mnist():\n",
    "\n",
    "    # need to define it inside so that when called it can find the path\n",
    "    path = \"/Users/asthagupta/Desktop/coding/Python/ml_operations/corruptmnist_v1/\"\n",
    "\n",
    "    # train data concatation\n",
    "    train_data_list = []\n",
    "    train_data_list_labels = []\n",
    "    for i in range(5):\n",
    "        train_data = torch.load(os.path.join(path, f\"train_images_{i}.pt\"))\n",
    "        train_data_list.append(train_data)\n",
    "\n",
    "        train_data_labels = torch.load(os.path.join(path, f\"train_target_{i}.pt\"))\n",
    "        train_data_list_labels.append(train_data_labels)\n",
    "\n",
    "    train_images = torch.cat(train_data_list, dim=0)\n",
    "    train_data_labels = torch.cat(train_data_list_labels, dim=0)\n",
    "\n",
    "    # test dat aconcatation\n",
    "    test_images = torch.load(os.path.join(path, \"test_images.pt\"))\n",
    "    test_images_labels = torch.load(os.path.join(path, \"test_target.pt\"))\n",
    "\n",
    "    # mapping the labels\n",
    "    train_images = train_images.reshape(-1,1,28,28)\n",
    "    test_images = test_images.reshape(-1,1,28,28)\n",
    "\n",
    "    # combining the images with labels\n",
    "    train_dataset = TensorDataset(train_images, train_data_labels)\n",
    "    test_dataset = TensorDataset(test_images, test_images_labels)\n",
    "\n",
    "    # data interators\n",
    "    train_dataloaders = DataLoader(train_dataset, batch_size=64, shuffle=True)\n",
    "    test_dataloaders = DataLoader(test_dataset, batch_size=64, shuffle=False)\n",
    "    return train_dataloaders , test_dataloaders\n",
    "    "
   ]
  },
  {
   "cell_type": "code",
   "execution_count": 3,
   "id": "0343eb49",
   "metadata": {},
   "outputs": [
    {
     "ename": "NameError",
     "evalue": "name 'test_dataloaders' is not defined",
     "output_type": "error",
     "traceback": [
      "\u001b[31m---------------------------------------------------------------------------\u001b[39m",
      "\u001b[31mNameError\u001b[39m                                 Traceback (most recent call last)",
      "\u001b[36mCell\u001b[39m\u001b[36m \u001b[39m\u001b[32mIn[3]\u001b[39m\u001b[32m, line 2\u001b[39m\n\u001b[32m      1\u001b[39m \u001b[38;5;66;03m# checking the shape of the image \u001b[39;00m\n\u001b[32m----> \u001b[39m\u001b[32m2\u001b[39m image, label = \u001b[38;5;28mnext\u001b[39m(\u001b[38;5;28miter\u001b[39m(\u001b[43mtest_dataloaders\u001b[49m))\n\u001b[32m      3\u001b[39m image.shape\n",
      "\u001b[31mNameError\u001b[39m: name 'test_dataloaders' is not defined"
     ]
    }
   ],
   "source": [
    "# checking the shape of the image \n",
    "image, label = next(iter(test_dataloaders))\n",
    "image.shape"
   ]
  }
 ],
 "metadata": {
  "kernelspec": {
   "display_name": "computer_vis_env",
   "language": "python",
   "name": "python3"
  },
  "language_info": {
   "codemirror_mode": {
    "name": "ipython",
    "version": 3
   },
   "file_extension": ".py",
   "mimetype": "text/x-python",
   "name": "python",
   "nbconvert_exporter": "python",
   "pygments_lexer": "ipython3",
   "version": "3.11.2"
  }
 },
 "nbformat": 4,
 "nbformat_minor": 5
}
