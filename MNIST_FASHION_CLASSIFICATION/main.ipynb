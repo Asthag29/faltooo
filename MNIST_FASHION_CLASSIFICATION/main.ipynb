{
 "cells": [
  {
   "cell_type": "code",
   "execution_count": 1,
   "id": "411dd22f",
   "metadata": {},
   "outputs": [],
   "source": [
    "import torch\n",
    "import torch.nn as nn\n",
    "from torch import optim\n",
    "import matplotlib.pyplot as plt\n",
    "from model import Network\n",
    "from data import corrupt_mnist\n",
    "from tqdm import tqdm\n",
    "import typer\n",
    "from classif import classification"
   ]
  },
  {
   "cell_type": "code",
   "execution_count": 2,
   "id": "8e1c76c5",
   "metadata": {},
   "outputs": [],
   "source": [
    "app= typer.Typer() #creating instance if the class\n",
    "\n",
    "def train_validation(model, train_dataloaders, test_dataloaders, criterion, epochs, optimizer):\n",
    "    train_losses = []\n",
    "    test_losses = []\n",
    "    train_accuracies = []\n",
    "    test_accuracies = []\n",
    "    \n",
    "    print(\"Training started...\")\n",
    "    \n",
    "    for epoch in (range(epochs)):\n",
    "        # Training phase\n",
    "        model.train()\n",
    "        running_loss = 0.0\n",
    "        correct_train = 0\n",
    "        total_train = 0\n",
    "        \n",
    "        train_bar = tqdm(train_dataloaders, desc=f\"Epoch {epoch+1}/{epochs} - Training\", leave=False)\n",
    "        \n",
    "        for data_train, labels_train in train_bar:\n",
    "            optimizer.zero_grad()\n",
    "            output = model(data_train)\n",
    "            loss = criterion(output, labels_train)\n",
    "            loss.backward()\n",
    "            optimizer.step()\n",
    "            \n",
    "            running_loss += loss.item()\n",
    "            \n",
    "            # Calculate training accuracy\n",
    "            _, predicted = torch.max(output.data, 1)\n",
    "            total_train += labels_train.size(0)\n",
    "            correct_train += (predicted == labels_train).sum().item()\n",
    "            \n",
    "            # Update progress bar\n",
    "            train_bar.set_postfix({\n",
    "                'Loss': f'{loss.item():.4f}',\n",
    "                'Acc': f'{100 * correct_train / total_train:.2f}%'\n",
    "            })\n",
    "        \n",
    "        # Calculate average training metrics\n",
    "        avg_train_loss = running_loss / len(train_dataloaders)\n",
    "        train_accuracy = 100 * correct_train / total_train\n",
    "        \n",
    "        train_losses.append(avg_train_loss)\n",
    "        train_accuracies.append(train_accuracy)\n",
    "        \n",
    "        # Validation phase\n",
    "        model.eval()\n",
    "        running_loss_test = 0.0\n",
    "        correct_test = 0\n",
    "        total_test = 0\n",
    "        \n",
    "        test_bar = tqdm(test_dataloaders, desc=f\"Epoch {epoch+1}/{epochs} - Validation\", leave=False)\n",
    "        \n",
    "        with torch.no_grad():\n",
    "            for data_test, labels_test in test_bar:\n",
    "                output = model(data_test)\n",
    "                loss = criterion(output, labels_test)\n",
    "                running_loss_test += loss.item()\n",
    "                \n",
    "                # Calculate test accuracy\n",
    "                _, predicted = torch.max(output.data, 1)\n",
    "                total_test += labels_test.size(0)\n",
    "                correct_test += (predicted == labels_test).sum().item()\n",
    "                \n",
    "                # Update progress bar\n",
    "                test_bar.set_postfix({\n",
    "                    'Loss': f'{loss.item():.4f}',\n",
    "                    'Acc': f'{100 * correct_test / total_test:.2f}%'\n",
    "                })\n",
    "        \n",
    "            # Calculate average test metrics\n",
    "            avg_test_loss = running_loss_test / len(test_dataloaders)\n",
    "            test_accuracy = 100 * correct_test / total_test\n",
    "            \n",
    "            test_losses.append(avg_test_loss)\n",
    "            test_accuracies.append(test_accuracy)\n",
    "        \n",
    "        # Print epoch summary\n",
    "        print(f'\\nEpoch {epoch+1}/{epochs}:')\n",
    "        print(f'Train Loss: {avg_train_loss:.4f}, Train Acc: {train_accuracy:.2f}%')\n",
    "        print(f'Test Loss: {avg_test_loss:.4f}, Test Acc: {test_accuracy:.2f}%')\n",
    "        print('-' * 50)\n",
    "    \n",
    "    return train_losses, test_losses, train_accuracies, test_accuracies\n",
    "\n"
   ]
  },
  {
   "cell_type": "code",
   "execution_count": null,
   "id": "97ecef84",
   "metadata": {},
   "outputs": [
    {
     "name": "stdout",
     "output_type": "stream",
     "text": [
      "Training started...\n"
     ]
    },
    {
     "name": "stderr",
     "output_type": "stream",
     "text": [
      "                                                                                                  \r"
     ]
    },
    {
     "name": "stdout",
     "output_type": "stream",
     "text": [
      "\n",
      "Epoch 1/20:\n",
      "Train Loss: 1.9615, Train Acc: 49.80%\n",
      "Test Loss: 1.8377, Test Acc: 61.76%\n",
      "--------------------------------------------------\n"
     ]
    },
    {
     "name": "stderr",
     "output_type": "stream",
     "text": [
      "                                                                                                  \r"
     ]
    },
    {
     "name": "stdout",
     "output_type": "stream",
     "text": [
      "\n",
      "Epoch 2/20:\n",
      "Train Loss: 1.8058, Train Acc: 65.43%\n",
      "Test Loss: 1.8044, Test Acc: 65.40%\n",
      "--------------------------------------------------\n"
     ]
    },
    {
     "name": "stderr",
     "output_type": "stream",
     "text": [
      "                                                                                                  \r"
     ]
    },
    {
     "name": "stdout",
     "output_type": "stream",
     "text": [
      "\n",
      "Epoch 3/20:\n",
      "Train Loss: 1.7386, Train Acc: 72.26%\n",
      "Test Loss: 1.7059, Test Acc: 75.28%\n",
      "--------------------------------------------------\n"
     ]
    },
    {
     "name": "stderr",
     "output_type": "stream",
     "text": [
      "                                                                                                  \r"
     ]
    },
    {
     "name": "stdout",
     "output_type": "stream",
     "text": [
      "\n",
      "Epoch 4/20:\n",
      "Train Loss: 1.6750, Train Acc: 78.67%\n",
      "Test Loss: 1.6243, Test Acc: 83.80%\n",
      "--------------------------------------------------\n"
     ]
    },
    {
     "name": "stderr",
     "output_type": "stream",
     "text": [
      "                                                                                                  \r"
     ]
    },
    {
     "name": "stdout",
     "output_type": "stream",
     "text": [
      "\n",
      "Epoch 5/20:\n",
      "Train Loss: 1.6056, Train Acc: 85.67%\n",
      "Test Loss: 1.6205, Test Acc: 83.94%\n",
      "--------------------------------------------------\n"
     ]
    },
    {
     "name": "stderr",
     "output_type": "stream",
     "text": [
      "                                                                                                  \r"
     ]
    },
    {
     "name": "stdout",
     "output_type": "stream",
     "text": [
      "\n",
      "Epoch 6/20:\n",
      "Train Loss: 1.5462, Train Acc: 91.60%\n",
      "Test Loss: 1.5335, Test Acc: 92.96%\n",
      "--------------------------------------------------\n"
     ]
    },
    {
     "name": "stderr",
     "output_type": "stream",
     "text": [
      "                                                                                                  \r"
     ]
    },
    {
     "name": "stdout",
     "output_type": "stream",
     "text": [
      "\n",
      "Epoch 7/20:\n",
      "Train Loss: 1.5106, Train Acc: 95.15%\n",
      "Test Loss: 1.5341, Test Acc: 92.64%\n",
      "--------------------------------------------------\n"
     ]
    },
    {
     "name": "stderr",
     "output_type": "stream",
     "text": [
      "                                                                                                  \r"
     ]
    },
    {
     "name": "stdout",
     "output_type": "stream",
     "text": [
      "\n",
      "Epoch 8/20:\n",
      "Train Loss: 1.5037, Train Acc: 95.86%\n",
      "Test Loss: 1.5165, Test Acc: 94.60%\n",
      "--------------------------------------------------\n"
     ]
    },
    {
     "name": "stderr",
     "output_type": "stream",
     "text": [
      "                                                                                                  \r"
     ]
    },
    {
     "name": "stdout",
     "output_type": "stream",
     "text": [
      "\n",
      "Epoch 9/20:\n",
      "Train Loss: 1.4985, Train Acc: 96.32%\n",
      "Test Loss: 1.5162, Test Acc: 94.42%\n",
      "--------------------------------------------------\n"
     ]
    },
    {
     "name": "stderr",
     "output_type": "stream",
     "text": [
      "                                                                                                   \r"
     ]
    },
    {
     "name": "stdout",
     "output_type": "stream",
     "text": [
      "\n",
      "Epoch 10/20:\n",
      "Train Loss: 1.4940, Train Acc: 96.77%\n",
      "Test Loss: 1.5129, Test Acc: 94.74%\n",
      "--------------------------------------------------\n"
     ]
    },
    {
     "name": "stderr",
     "output_type": "stream",
     "text": [
      "                                                                                                   \r"
     ]
    },
    {
     "name": "stdout",
     "output_type": "stream",
     "text": [
      "\n",
      "Epoch 11/20:\n",
      "Train Loss: 1.4908, Train Acc: 97.04%\n",
      "Test Loss: 1.5134, Test Acc: 94.64%\n",
      "--------------------------------------------------\n"
     ]
    },
    {
     "name": "stderr",
     "output_type": "stream",
     "text": [
      "                                                                                                   \r"
     ]
    },
    {
     "name": "stdout",
     "output_type": "stream",
     "text": [
      "\n",
      "Epoch 12/20:\n",
      "Train Loss: 1.4899, Train Acc: 97.16%\n",
      "Test Loss: 1.5322, Test Acc: 92.70%\n",
      "--------------------------------------------------\n"
     ]
    },
    {
     "name": "stderr",
     "output_type": "stream",
     "text": [
      "                                                                                                   \r"
     ]
    },
    {
     "name": "stdout",
     "output_type": "stream",
     "text": [
      "\n",
      "Epoch 13/20:\n",
      "Train Loss: 1.4876, Train Acc: 97.36%\n",
      "Test Loss: 1.5114, Test Acc: 94.90%\n",
      "--------------------------------------------------\n"
     ]
    },
    {
     "name": "stderr",
     "output_type": "stream",
     "text": [
      "                                                                                                   \r"
     ]
    },
    {
     "name": "stdout",
     "output_type": "stream",
     "text": [
      "\n",
      "Epoch 14/20:\n",
      "Train Loss: 1.4847, Train Acc: 97.69%\n",
      "Test Loss: 1.5105, Test Acc: 95.00%\n",
      "--------------------------------------------------\n"
     ]
    },
    {
     "name": "stderr",
     "output_type": "stream",
     "text": [
      "                                                                                                   \r"
     ]
    },
    {
     "name": "stdout",
     "output_type": "stream",
     "text": [
      "\n",
      "Epoch 15/20:\n",
      "Train Loss: 1.4835, Train Acc: 97.78%\n",
      "Test Loss: 1.5009, Test Acc: 96.00%\n",
      "--------------------------------------------------\n"
     ]
    },
    {
     "name": "stderr",
     "output_type": "stream",
     "text": [
      "                                                                                                   \r"
     ]
    },
    {
     "name": "stdout",
     "output_type": "stream",
     "text": [
      "\n",
      "Epoch 16/20:\n",
      "Train Loss: 1.4825, Train Acc: 97.89%\n",
      "Test Loss: 1.5009, Test Acc: 95.96%\n",
      "--------------------------------------------------\n"
     ]
    },
    {
     "name": "stderr",
     "output_type": "stream",
     "text": [
      "                                                                                                   \r"
     ]
    },
    {
     "name": "stdout",
     "output_type": "stream",
     "text": [
      "\n",
      "Epoch 17/20:\n",
      "Train Loss: 1.4803, Train Acc: 98.10%\n",
      "Test Loss: 1.5161, Test Acc: 94.52%\n",
      "--------------------------------------------------\n"
     ]
    },
    {
     "name": "stderr",
     "output_type": "stream",
     "text": [
      "                                                                                                   \r"
     ]
    },
    {
     "name": "stdout",
     "output_type": "stream",
     "text": [
      "\n",
      "Epoch 18/20:\n",
      "Train Loss: 1.4814, Train Acc: 97.98%\n",
      "Test Loss: 1.5129, Test Acc: 94.84%\n",
      "--------------------------------------------------\n"
     ]
    },
    {
     "name": "stderr",
     "output_type": "stream",
     "text": [
      "                                                                                                   \r"
     ]
    },
    {
     "name": "stdout",
     "output_type": "stream",
     "text": [
      "\n",
      "Epoch 19/20:\n",
      "Train Loss: 1.4795, Train Acc: 98.18%\n",
      "Test Loss: 1.5100, Test Acc: 95.02%\n",
      "--------------------------------------------------\n"
     ]
    },
    {
     "name": "stderr",
     "output_type": "stream",
     "text": [
      "                                                                                                   "
     ]
    },
    {
     "name": "stdout",
     "output_type": "stream",
     "text": [
      "\n",
      "Epoch 20/20:\n",
      "Train Loss: 1.4803, Train Acc: 98.13%\n",
      "Test Loss: 1.5219, Test Acc: 94.00%\n",
      "--------------------------------------------------\n"
     ]
    },
    {
     "name": "stderr",
     "output_type": "stream",
     "text": [
      "\r"
     ]
    }
   ],
   "source": [
    "# model = Network()\n",
    "# train_dataloaders, test_dataloaders = corrupt_mnist()\n",
    "# criterion = nn.CrossEntropyLoss()\n",
    "# epochs= 20\n",
    "# optimizer= optim.Adam(model.parameters(), lr = 0.001)\n",
    "# train_losses, test_losses, train_accuracies, test_accuracies = train_validation(model, train_dataloaders, test_dataloaders, criterion, epochs, optimizer)\n"
   ]
  },
  {
   "cell_type": "code",
   "execution_count": 3,
   "id": "d783bc70",
   "metadata": {},
   "outputs": [],
   "source": [
    "# Updated plotting function\n",
    "def plotting(train_loss, test_loss, train_acc, test_acc, save_path):\n",
    "    fig, (ax1, ax2) = plt.subplots(1, 2, figsize=(15, 5))\n",
    "    \n",
    "    # Plot losses\n",
    "    ax1.plot(train_loss, label='Train Loss')\n",
    "    ax1.plot(test_loss, label='Test Loss')\n",
    "    ax1.set_xlabel('Epochs')\n",
    "    ax1.set_ylabel('Loss')\n",
    "    ax1.set_title('Training and Test Loss')\n",
    "    ax1.legend()\n",
    "    ax1.grid(True)\n",
    "    \n",
    "    # Plot accuracies\n",
    "    ax2.plot(train_acc, label='Train Accuracy')\n",
    "    ax2.plot(test_acc, label='Test Accuracy')\n",
    "    ax2.set_xlabel('Epochs')\n",
    "    ax2.set_ylabel('Accuracy (%)')\n",
    "    ax2.set_title('Training and Test Accuracy')\n",
    "    ax2.legend()\n",
    "    ax2.grid(True)\n",
    "    \n",
    "    plt.savefig(save_path)\n",
    "    plt.tight_layout()\n",
    "    plt.show()"
   ]
  },
  {
   "cell_type": "code",
   "execution_count": null,
   "id": "4cbc76b0",
   "metadata": {},
   "outputs": [
    {
     "data": {
      "image/png": "[encoded data removed]",
      "text/plain": [
       "<Figure size 1500x500 with 2 Axes>"
      ]
     },
     "metadata": {},
     "output_type": "display_data"
    }
   ],
   "source": [
    "# plotting(train_losses, test_losses, train_accuracies, test_accuracies)"
   ]
  },
  {
   "cell_type": "code",
   "execution_count": 4,
   "id": "503ee9d6",
   "metadata": {},
   "outputs": [],
   "source": [
    "@app.command()\n",
    "def training_model(\n",
    "        lr: float = typer.Option(0.001, \"--lr\", help=\"Learning rate\"),\n",
    "        epochs: int = typer.Option(10, \"--epochs\", help=\"Number of epochs\"),\n",
    "        model_name: str = typer.Option(\"model.pth\", \"--model-name\", help=\"Name to save the model\"),\n",
    "        plot_graph: bool = typer.Option(True, \"--plot/--no-plot\", help=\"Generate training plots\"),\n",
    "        save_path: str = typer.Option(\"graph.png\",\"--graph-path\", help=\"graph location\")):\n",
    "        batch_number : int = typer.Option(1,\"--batch_number\", help=\"batch_number\")\n",
    "\n",
    "\n",
    "        print(f\"🚀 Starting training with:\")\n",
    "        print(f\"   Learning rate: {lr}\")\n",
    "        print(f\"   Epochs: {epochs}\")\n",
    "        print(f\"   Model will be saved as: {model_name}\")\n",
    "        print(f\"   Plot graphs: {plot_graph}\")\n",
    "\n",
    "        model = Network()\n",
    "        train_dataloaders, test_dataloaders = corrupt_mnist()\n",
    "        criterion = nn.CrossEntropyLoss()\n",
    "        epochs= epochs\n",
    "        optimizer= optim.Adam(model.parameters(), lr = lr)\n",
    "        train_losses, test_losses, train_accuracies, test_accuracies = train_validation(model, train_dataloaders, test_dataloaders, criterion, epochs, optimizer)\n",
    "        \n",
    "\n",
    "\n",
    "        # saving name\n",
    "        torch.save(model.state_dict(),model_name)\n",
    "        print(f\"✅ Model saved successfully as: {model_name}\")\n",
    "        \n",
    "        if plot_graph:\n",
    "                print(\"📊 Generating training plots...\")\n",
    "                plotting(train_losses, test_losses, train_accuracies, test_accuracies,save_path)\n",
    "\n",
    "        classification(batch_number,model_name)       \n",
    "           \n",
    "        return\n",
    "        \n",
    "    \n",
    "        \n",
    "        "
   ]
  },
  {
   "cell_type": "code",
   "execution_count": null,
   "id": "32fb32f7",
   "metadata": {},
   "outputs": [],
   "source": []
  }
 ],
 "metadata": {
  "kernelspec": {
   "display_name": "computer_vis_env",
   "language": "python",
   "name": "python3"
  },
  "language_info": {
   "codemirror_mode": {
    "name": "ipython",
    "version": 3
   },
   "file_extension": ".py",
   "mimetype": "text/x-python",
   "name": "python",
   "nbconvert_exporter": "python",
   "pygments_lexer": "ipython3",
   "version": "3.11.2"
  }
 },
 "nbformat": 4,
 "nbformat_minor": 5
}
