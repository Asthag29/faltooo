{
 "cells": [
  {
   "cell_type": "code",
   "execution_count": 2,
   "id": "8563e8d7",
   "metadata": {},
   "outputs": [],
   "source": [
    "import matplotlib.pyplot as plt\n",
    "import numpy as np\n",
    "import pandas as pd\n",
    "from data import corrupt_mnist\n",
    "\n",
    "from model import Network\n",
    "import torch"
   ]
  },
  {
   "cell_type": "code",
   "execution_count": 3,
   "id": "64f53282",
   "metadata": {},
   "outputs": [],
   "source": [
    "def classification(batch_no,model_path):\n",
    "    \n",
    "    model=Network() #making instance again because path only stores the parameter not the complete model itself\n",
    "\n",
    "    model.load_state_dict(torch.load(model_path))\n",
    "    model.eval()\n",
    "    _, testdata = corrupt_mnist()\n",
    "    \n",
    "    # Check if batch_no is valid\n",
    "    if batch_no >= len(testdata):\n",
    "        print(f\"Error: batch_no {batch_no} is out of range. Total batches: {len(testdata)}\")\n",
    "        return #adding return so that the function breaks here\n",
    "    \n",
    "    # Iterate through batches to reach the desired batch_no\n",
    "    for current_batch, (images, labels) in enumerate(testdata):\n",
    "        if current_batch == batch_no:\n",
    "            \n",
    "            out= model(images)\n",
    "            \n",
    "            _, predictions = torch.max(out, dim=1)\n",
    "            for i in range(len(predictions)):\n",
    "                if predictions[i] != labels[i]:\n",
    "            \n",
    "                    # Extract the specific image and label\n",
    "                    image = images[i].squeeze().numpy() #accessing the element corresponding to the index then squueze() by defualt remove all the singleton element\n",
    "                    \n",
    "                    label = labels[i].item()\n",
    "                    \n",
    "                    # Plot the image\n",
    "                    plt.figure(figsize=(6, 6))\n",
    "                    plt.imshow(image, cmap='gray')\n",
    "                    plt.title(f'Batch: {batch_no}, Index: {i}, Label: {label}, Predicted_label: {predictions[i]}')\n",
    "                    plt.axis('off')\n",
    "                    plt.show()\n",
    "                    plt.savefig(path)\n",
    "\n",
    "\n",
    "                    print(f\"Batch number: {batch_no}\")\n",
    "                    print(f\"Index in batch: {i}\")\n",
    "                    print(f\"Label: {label}\")\n",
    "                    print(f\"predicted: {predictions[i]}\")\n",
    "                    break\n",
    "\n"
   ]
  }
 ],
 "metadata": {
  "kernelspec": {
   "display_name": "computer_vis_env",
   "language": "python",
   "name": "python3"
  },
  "language_info": {
   "codemirror_mode": {
    "name": "ipython",
    "version": 3
   },
   "file_extension": ".py",
   "mimetype": "text/x-python",
   "name": "python",
   "nbconvert_exporter": "python",
   "pygments_lexer": "ipython3",
   "version": "3.11.2"
  }
 },
 "nbformat": 4,
 "nbformat_minor": 5
}
